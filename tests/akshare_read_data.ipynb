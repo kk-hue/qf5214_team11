{
 "cells": [
  {
   "cell_type": "code",
   "execution_count": 1,
   "outputs": [],
   "source": [
    "import akshare as ak\n",
    "import pandas as pd"
   ],
   "metadata": {
    "collapsed": false,
    "pycharm": {
     "name": "#%%\n"
    }
   }
  },
  {
   "cell_type": "code",
   "execution_count": 23,
   "outputs": [
    {
     "name": "stdout",
     "output_type": "stream",
     "text": [
      "                      day      open      high       low     close     volume\n",
      "0     2024-03-22 14:02:00  3046.620  3048.660  3046.491  3048.573   96403600\n",
      "1     2024-03-22 14:03:00  3049.030  3052.025  3049.030  3051.551  123324000\n",
      "2     2024-03-22 14:04:00  3051.512  3052.338  3050.934  3051.368   94039400\n",
      "3     2024-03-22 14:05:00  3051.386  3052.438  3051.208  3051.666   82762500\n",
      "4     2024-03-22 14:06:00  3051.930  3054.673  3051.930  3054.299  112550900\n",
      "...                   ...       ...       ...       ...       ...        ...\n",
      "1965  2024-04-03 14:55:00  3070.380  3070.380  3069.482  3070.240  207688200\n",
      "1966  2024-04-03 14:56:00  3070.117  3070.117  3069.025  3069.468  244337600\n",
      "1967  2024-04-03 14:57:00  3069.906  3070.149  3069.422  3069.514  273641900\n",
      "1968  2024-04-03 14:58:00  3069.699  3069.736  3069.495  3069.495   17145500\n",
      "1969  2024-04-03 15:00:00  3069.528  3069.528  3069.296  3069.296  474863500\n",
      "\n",
      "[1970 rows x 6 columns]\n"
     ]
    }
   ],
   "source": [
    "# This is a sample to extract data from akshare: min bar (near real-time), but sometimes it cannot return today's data\n",
    "df = ak.stock_zh_a_minute(symbol='sh000001')\n",
    "print(df)"
   ],
   "metadata": {
    "collapsed": false,
    "pycharm": {
     "name": "#%%\n"
    }
   }
  },
  {
   "cell_type": "code",
   "execution_count": 29,
   "outputs": [
    {
     "name": "stdout",
     "output_type": "stream",
     "text": [
      "Spent time: 5.64s\n",
      "        序号      代码    名称    最新价    涨跌幅   涨跌额        成交量          成交额     振幅   \n",
      "0        1  688196  卓越新能  30.83  20.01  5.14    76101.0  225487239.0  19.27  \\\n",
      "1        2  688377   迪威尔  19.54  10.65  1.88    63696.0  119698777.0  11.66   \n",
      "2        3  603818  曲美家居   4.35  10.13  0.40   142947.0   61530034.0   9.87   \n",
      "3        4  600255  鑫科材料   2.18  10.10  0.20   938528.0  199346175.0  10.61   \n",
      "4        5  601212  白银有色   3.28  10.07  0.30  2699268.0  864824431.0   8.72   \n",
      "...    ...     ...   ...    ...    ...   ...        ...          ...    ...   \n",
      "2370  2371  605180  华生科技  22.44  -9.99 -2.49    46701.0  105930851.0   2.25   \n",
      "2371  2372  603679  华体科技  16.75  -9.99 -1.86   101065.0  174810261.0   6.07   \n",
      "2372  2373  603037  凯众股份  23.73 -10.01 -2.64   210109.0  506470740.0   4.85   \n",
      "2373  2374  603879  永悦科技   6.20 -10.01 -0.69    63182.0   39172840.0   0.00   \n",
      "2374  2375  603527  众源新材  10.13 -10.04 -1.13   480052.0  499895114.0   7.37   \n",
      "\n",
      "         最高  ...     量比    换手率  市盈率-动态   市净率           总市值          流通市值   \n",
      "0     30.83  ...  15.24   6.34   45.23  1.38  3.699600e+09  3.699600e+09  \\\n",
      "1     19.66  ...   2.50   3.27   26.73  2.18  3.803793e+09  3.803793e+09   \n",
      "2      4.35  ...   0.40   2.46  -11.12  1.23  3.054128e+09  2.524721e+09   \n",
      "3      2.18  ...   1.87   5.20  -64.27  2.88  3.937400e+09  3.937400e+09   \n",
      "4      3.28  ...   4.54   3.65 -355.18  1.60  2.428766e+10  2.428766e+10   \n",
      "...     ...  ...    ...    ...     ...   ...           ...           ...   \n",
      "2370  23.00  ...   0.65   9.61  102.48  3.43  3.792360e+09  1.090304e+09   \n",
      "2371  17.88  ...   2.04   6.19   35.37  3.11  2.733300e+09  2.733300e+09   \n",
      "2372  25.01  ...   0.80  15.47   44.88  3.72  3.233040e+09  3.222836e+09   \n",
      "2373   6.20  ...   0.10   1.76  -54.69  4.77  2.236476e+09  2.227936e+09   \n",
      "2374  10.96  ...   1.21  15.14   27.01  1.69  3.210918e+09  3.210918e+09   \n",
      "\n",
      "        涨速  5分钟涨跌  60日涨跌幅  年初至今涨跌幅  \n",
      "0     0.00   0.00   -8.03    -8.16  \n",
      "1     0.05   0.15  -25.96   -27.14  \n",
      "2     0.00   0.00  -20.18   -19.44  \n",
      "3     0.00   0.00   -1.80    -1.36  \n",
      "4     0.00   0.00   20.59    21.93  \n",
      "...    ...    ...     ...      ...  \n",
      "2370  0.00   0.00   57.03    60.29  \n",
      "2371  0.00   0.00   11.37    12.19  \n",
      "2372  0.00   0.00   19.13    14.03  \n",
      "2373  0.00   0.00   -4.62    -2.97  \n",
      "2374  0.00   0.00   -6.81    -6.29  \n",
      "\n",
      "[2375 rows x 23 columns]\n"
     ]
    }
   ],
   "source": [
    "# This API can query all stocks' real-time data in SSE\n",
    "import time\n",
    "time_start = time.time()\n",
    "sh_real_time = ak.stock_sh_a_spot_em()\n",
    "time_end = time.time()\n",
    "print('Spent time: {:.2f}s'.format(time_end-time_start))\n",
    "print(sh_real_time)"
   ],
   "metadata": {
    "collapsed": false,
    "pycharm": {
     "name": "#%%\n"
    }
   }
  },
  {
   "cell_type": "code",
   "execution_count": 24,
   "outputs": [
    {
     "data": {
      "text/plain": "          序号                               名称   最新价   涨跌额     涨跌幅    开盘价   \n0          1            MediaCo Holding Inc-A  3.17  1.77  126.43   2.27  \\\n1          2      RMG Acquisition Corp III Wt  0.05  0.03  117.39   0.05   \n2          3        HUB Cyber Security Ltd Wt  0.10  0.05  100.00   0.10   \n3          4  Welsbach Technology Metals Acqu  0.17  0.08   87.85   0.17   \n4          5    GCT Semiconductor Holding Inc  9.56  3.83   66.84  11.03   \n...      ...                              ...   ...   ...     ...    ...   \n11587  11588   TKB Critical Technologies 1 Wt  0.01 -0.01  -32.43   0.01   \n11588  11589                 DatChat Inc Wt-A  0.07 -0.04  -34.68   0.05   \n11589  11590  Focus Impact Acquisition Corp W  0.03 -0.02  -38.57   0.03   \n11590  11591                   Semantix Inc-A  0.52 -0.34  -39.42   0.50   \n11591  11592                  Semantix Inc Wt  0.01 -0.01  -59.09   0.01   \n\n         最高价   最低价   昨收价          总市值     市盈率         成交量          成交额     振幅   \n0       3.17  2.26  1.40   82444339.0  -10.80  10182669.0   28958839.0  65.00  \\\n1       0.05  0.05  0.02          NaN     NaN      1000.0         50.0   0.00   \n2       0.10  0.10  0.05          NaN     NaN      2100.0        210.0   0.00   \n3       0.18  0.17  0.09          NaN     NaN     43129.0       7842.0  11.05   \n4      11.90  9.56  5.73  419808003.0 -210.35  13832292.0  144952268.0  40.84   \n...      ...   ...   ...          ...     ...         ...          ...    ...   \n11587   0.01  0.01  0.02          NaN     NaN     28200.0        301.0  25.00   \n11588   0.07  0.05  0.10          NaN     NaN      2315.0        133.0  14.98   \n11589   0.03  0.03  0.05          NaN     NaN      2000.0         60.0   0.00   \n11590   0.53  0.46  0.85   40398667.0   -1.33    130356.0      60450.0   8.85   \n11591   0.01  0.01  0.01          NaN     NaN    145905.0        945.0  21.82   \n\n         换手率         代码  \n0      39.15   105.MDIA  \n1        NaN  105.RMGCW  \n2        NaN  105.HUBCZ  \n3        NaN  105.WTMAR  \n4      31.50   106.GCTS  \n...      ...        ...  \n11587    NaN  105.USCTW  \n11588    NaN  105.DATSW  \n11589    NaN  105.FIACW  \n11590   0.17   105.STIX  \n11591    NaN  105.STIXW  \n\n[11592 rows x 16 columns]",
      "text/html": "<div>\n<style scoped>\n    .dataframe tbody tr th:only-of-type {\n        vertical-align: middle;\n    }\n\n    .dataframe tbody tr th {\n        vertical-align: top;\n    }\n\n    .dataframe thead th {\n        text-align: right;\n    }\n</style>\n<table border=\"1\" class=\"dataframe\">\n  <thead>\n    <tr style=\"text-align: right;\">\n      <th></th>\n      <th>序号</th>\n      <th>名称</th>\n      <th>最新价</th>\n      <th>涨跌额</th>\n      <th>涨跌幅</th>\n      <th>开盘价</th>\n      <th>最高价</th>\n      <th>最低价</th>\n      <th>昨收价</th>\n      <th>总市值</th>\n      <th>市盈率</th>\n      <th>成交量</th>\n      <th>成交额</th>\n      <th>振幅</th>\n      <th>换手率</th>\n      <th>代码</th>\n    </tr>\n  </thead>\n  <tbody>\n    <tr>\n      <th>0</th>\n      <td>1</td>\n      <td>MediaCo Holding Inc-A</td>\n      <td>3.17</td>\n      <td>1.77</td>\n      <td>126.43</td>\n      <td>2.27</td>\n      <td>3.17</td>\n      <td>2.26</td>\n      <td>1.40</td>\n      <td>82444339.0</td>\n      <td>-10.80</td>\n      <td>10182669.0</td>\n      <td>28958839.0</td>\n      <td>65.00</td>\n      <td>39.15</td>\n      <td>105.MDIA</td>\n    </tr>\n    <tr>\n      <th>1</th>\n      <td>2</td>\n      <td>RMG Acquisition Corp III Wt</td>\n      <td>0.05</td>\n      <td>0.03</td>\n      <td>117.39</td>\n      <td>0.05</td>\n      <td>0.05</td>\n      <td>0.05</td>\n      <td>0.02</td>\n      <td>NaN</td>\n      <td>NaN</td>\n      <td>1000.0</td>\n      <td>50.0</td>\n      <td>0.00</td>\n      <td>NaN</td>\n      <td>105.RMGCW</td>\n    </tr>\n    <tr>\n      <th>2</th>\n      <td>3</td>\n      <td>HUB Cyber Security Ltd Wt</td>\n      <td>0.10</td>\n      <td>0.05</td>\n      <td>100.00</td>\n      <td>0.10</td>\n      <td>0.10</td>\n      <td>0.10</td>\n      <td>0.05</td>\n      <td>NaN</td>\n      <td>NaN</td>\n      <td>2100.0</td>\n      <td>210.0</td>\n      <td>0.00</td>\n      <td>NaN</td>\n      <td>105.HUBCZ</td>\n    </tr>\n    <tr>\n      <th>3</th>\n      <td>4</td>\n      <td>Welsbach Technology Metals Acqu</td>\n      <td>0.17</td>\n      <td>0.08</td>\n      <td>87.85</td>\n      <td>0.17</td>\n      <td>0.18</td>\n      <td>0.17</td>\n      <td>0.09</td>\n      <td>NaN</td>\n      <td>NaN</td>\n      <td>43129.0</td>\n      <td>7842.0</td>\n      <td>11.05</td>\n      <td>NaN</td>\n      <td>105.WTMAR</td>\n    </tr>\n    <tr>\n      <th>4</th>\n      <td>5</td>\n      <td>GCT Semiconductor Holding Inc</td>\n      <td>9.56</td>\n      <td>3.83</td>\n      <td>66.84</td>\n      <td>11.03</td>\n      <td>11.90</td>\n      <td>9.56</td>\n      <td>5.73</td>\n      <td>419808003.0</td>\n      <td>-210.35</td>\n      <td>13832292.0</td>\n      <td>144952268.0</td>\n      <td>40.84</td>\n      <td>31.50</td>\n      <td>106.GCTS</td>\n    </tr>\n    <tr>\n      <th>...</th>\n      <td>...</td>\n      <td>...</td>\n      <td>...</td>\n      <td>...</td>\n      <td>...</td>\n      <td>...</td>\n      <td>...</td>\n      <td>...</td>\n      <td>...</td>\n      <td>...</td>\n      <td>...</td>\n      <td>...</td>\n      <td>...</td>\n      <td>...</td>\n      <td>...</td>\n      <td>...</td>\n    </tr>\n    <tr>\n      <th>11587</th>\n      <td>11588</td>\n      <td>TKB Critical Technologies 1 Wt</td>\n      <td>0.01</td>\n      <td>-0.01</td>\n      <td>-32.43</td>\n      <td>0.01</td>\n      <td>0.01</td>\n      <td>0.01</td>\n      <td>0.02</td>\n      <td>NaN</td>\n      <td>NaN</td>\n      <td>28200.0</td>\n      <td>301.0</td>\n      <td>25.00</td>\n      <td>NaN</td>\n      <td>105.USCTW</td>\n    </tr>\n    <tr>\n      <th>11588</th>\n      <td>11589</td>\n      <td>DatChat Inc Wt-A</td>\n      <td>0.07</td>\n      <td>-0.04</td>\n      <td>-34.68</td>\n      <td>0.05</td>\n      <td>0.07</td>\n      <td>0.05</td>\n      <td>0.10</td>\n      <td>NaN</td>\n      <td>NaN</td>\n      <td>2315.0</td>\n      <td>133.0</td>\n      <td>14.98</td>\n      <td>NaN</td>\n      <td>105.DATSW</td>\n    </tr>\n    <tr>\n      <th>11589</th>\n      <td>11590</td>\n      <td>Focus Impact Acquisition Corp W</td>\n      <td>0.03</td>\n      <td>-0.02</td>\n      <td>-38.57</td>\n      <td>0.03</td>\n      <td>0.03</td>\n      <td>0.03</td>\n      <td>0.05</td>\n      <td>NaN</td>\n      <td>NaN</td>\n      <td>2000.0</td>\n      <td>60.0</td>\n      <td>0.00</td>\n      <td>NaN</td>\n      <td>105.FIACW</td>\n    </tr>\n    <tr>\n      <th>11590</th>\n      <td>11591</td>\n      <td>Semantix Inc-A</td>\n      <td>0.52</td>\n      <td>-0.34</td>\n      <td>-39.42</td>\n      <td>0.50</td>\n      <td>0.53</td>\n      <td>0.46</td>\n      <td>0.85</td>\n      <td>40398667.0</td>\n      <td>-1.33</td>\n      <td>130356.0</td>\n      <td>60450.0</td>\n      <td>8.85</td>\n      <td>0.17</td>\n      <td>105.STIX</td>\n    </tr>\n    <tr>\n      <th>11591</th>\n      <td>11592</td>\n      <td>Semantix Inc Wt</td>\n      <td>0.01</td>\n      <td>-0.01</td>\n      <td>-59.09</td>\n      <td>0.01</td>\n      <td>0.01</td>\n      <td>0.01</td>\n      <td>0.01</td>\n      <td>NaN</td>\n      <td>NaN</td>\n      <td>145905.0</td>\n      <td>945.0</td>\n      <td>21.82</td>\n      <td>NaN</td>\n      <td>105.STIXW</td>\n    </tr>\n  </tbody>\n</table>\n<p>11592 rows × 16 columns</p>\n</div>"
     },
     "execution_count": 24,
     "metadata": {},
     "output_type": "execute_result"
    }
   ],
   "source": [
    "# This API can also query all stocks' real-time data of US\n",
    "ak.stock_us_spot_em()"
   ],
   "metadata": {
    "collapsed": false,
    "pycharm": {
     "name": "#%%\n"
    }
   }
  },
  {
   "cell_type": "code",
   "execution_count": 31,
   "outputs": [
    {
     "name": "stdout",
     "output_type": "stream",
     "text": [
      "1\n",
      "    序号                               名称    最新价    涨跌额     涨跌幅    开盘价    最高价   \n",
      "0    1                 noco-noco Inc Wt   0.02   0.01  156.58   0.02   0.02  \\\n",
      "1    2            MediaCo Holding Inc-A   3.42   2.02  144.29   2.27   3.88   \n",
      "2    3      RMG Acquisition Corp III Wt   0.05   0.03  117.39   0.05   0.05   \n",
      "3    4        HUB Cyber Security Ltd Wt   0.10   0.05   90.00   0.10   0.10   \n",
      "4    5  Welsbach Technology Metals Acqu   0.17   0.08   87.85   0.17   0.18   \n",
      "5    6           HUB Cyber Security Ltd   1.76   0.72   69.23   1.46   1.89   \n",
      "6    7                 Worksport Ltd Wt   0.04   0.01   60.27   0.04   0.04   \n",
      "7    8             Brooge Energy Ltd Wt   0.01   0.01   58.89   0.01   0.01   \n",
      "8    9                 DigiAsia Corp Wt   0.07   0.03   57.34   0.06   0.07   \n",
      "9   10      Insight Acquisition Corp Wt   0.04   0.01   56.47   0.04   0.04   \n",
      "10  11                  Momentus Inc Wt   0.01   0.00   53.85   0.01   0.01   \n",
      "11  12        HUB Cyber Security Ltd Wt   0.04   0.01   53.33   0.02   0.04   \n",
      "12  13    GCT Semiconductor Holding Inc   8.66   2.93   51.05  11.03  11.90   \n",
      "13  14      Revolution Medicines Inc Wt   0.25   0.08   50.21   0.25   0.25   \n",
      "14  15                    DigiAsia Corp   8.03   2.53   46.00   7.68   8.38   \n",
      "15  16    Rocket Pharmaceuticals Inc Wt   0.22   0.06   37.50   0.22   0.22   \n",
      "16  17                 SurgePays Inc Wt   0.96   0.26   37.14   0.96   0.96   \n",
      "17  18                bleuacacia ltd Rt   0.06   0.02   33.76   0.06   0.06   \n",
      "18  19              Destiny Tech100 Inc  44.00  10.46   31.19  42.12  48.53   \n",
      "19  20              Procaps Group SA Wt   0.09   0.02   28.00   0.07   0.09   \n",
      "\n",
      "      最低价    昨收价          总市值     市盈率         成交量          成交额      振幅   \n",
      "0    0.02   0.01          NaN     NaN       250.0          4.0    2.63  \\\n",
      "1    2.26   1.40   88946259.0  -11.66  26325643.0   86749607.0  115.71   \n",
      "2    0.05   0.02          NaN     NaN      1000.0         50.0    0.00   \n",
      "3    0.10   0.05          NaN     NaN     32770.0       3274.0   10.00   \n",
      "4    0.17   0.09          NaN     NaN     69942.0      12117.0   11.05   \n",
      "5    1.41   1.04   17297819.0   -0.25  45059920.0   73416754.0   46.16   \n",
      "6    0.04   0.02          NaN     NaN      6000.0        215.0    4.91   \n",
      "7    0.01   0.01          NaN     NaN      5300.0         75.0    0.00   \n",
      "8    0.06   0.04          NaN     NaN      5005.0        331.0   22.57   \n",
      "9    0.04   0.03          NaN     NaN       100.0          3.0    0.00   \n",
      "10   0.01   0.01          NaN     NaN     41122.0        271.0   56.92   \n",
      "11   0.02   0.02          NaN     NaN    370905.0      10719.0   65.83   \n",
      "12   7.83   5.73  380066764.0 -190.44  16555835.0  167159758.0   71.03   \n",
      "13   0.25   0.17          NaN     NaN       154.0         38.0    0.00   \n",
      "14   6.62   5.50  469562031.0  267.99   1445678.0   14852260.0   32.00   \n",
      "15   0.22   0.16          NaN     NaN      1851.0        407.0    0.00   \n",
      "16   0.96   0.70          NaN     NaN      5001.0       4800.0    0.00   \n",
      "17   0.06   0.05          NaN     NaN       200.0         12.0    0.00   \n",
      "18  40.02  33.54  478715820.0     NaN    856937.0   38062003.0   25.37   \n",
      "19   0.07   0.07          NaN     NaN       400.0         28.0   33.71   \n",
      "\n",
      "       换手率         代码  \n",
      "0      NaN  105.NCNCW  \n",
      "1   101.22   105.MDIA  \n",
      "2      NaN  105.RMGCW  \n",
      "3      NaN  105.HUBCZ  \n",
      "4      NaN  105.WTMAR  \n",
      "5   458.47   105.HUBC  \n",
      "6      NaN  105.WKSPW  \n",
      "7      NaN  105.BROGW  \n",
      "8      NaN  105.FAASW  \n",
      "9      NaN  105.INAQW  \n",
      "10     NaN  105.MNTSW  \n",
      "11     NaN  105.HUBCW  \n",
      "12   37.70   106.GCTS  \n",
      "13     NaN  105.RVMDW  \n",
      "14    2.47   105.FAAS  \n",
      "15     NaN  105.RCKTW  \n",
      "16     NaN  105.SURGW  \n",
      "17     NaN  105.BLEUR  \n",
      "18    7.88   106.DXYZ  \n",
      "19     NaN  105.PROCW  \n",
      "2\n",
      "    序号                               名称    最新价    涨跌额     涨跌幅    开盘价    最高价   \n",
      "0    1                 noco-noco Inc Wt   0.02   0.01  156.58   0.02   0.02  \\\n",
      "1    2            MediaCo Holding Inc-A   3.40   2.00  142.86   2.27   3.88   \n",
      "2    3      RMG Acquisition Corp III Wt   0.05   0.03  117.39   0.05   0.05   \n",
      "3    4        HUB Cyber Security Ltd Wt   0.10   0.05   90.00   0.10   0.10   \n",
      "4    5  Welsbach Technology Metals Acqu   0.17   0.08   87.85   0.17   0.18   \n",
      "5    6           HUB Cyber Security Ltd   1.81   0.77   73.56   1.46   1.89   \n",
      "6    7                 Worksport Ltd Wt   0.04   0.01   60.27   0.04   0.04   \n",
      "7    8             Brooge Energy Ltd Wt   0.01   0.01   58.89   0.01   0.01   \n",
      "8    9                 DigiAsia Corp Wt   0.07   0.03   57.34   0.06   0.07   \n",
      "9   10      Insight Acquisition Corp Wt   0.04   0.01   56.47   0.04   0.04   \n",
      "10  11                  Momentus Inc Wt   0.01   0.00   53.85   0.01   0.01   \n",
      "11  12    GCT Semiconductor Holding Inc   8.80   3.07   53.58  11.03  11.90   \n",
      "12  13      Revolution Medicines Inc Wt   0.25   0.08   50.21   0.25   0.25   \n",
      "13  14        HUB Cyber Security Ltd Wt   0.04   0.01   50.00   0.02   0.04   \n",
      "14  15                    DigiAsia Corp   8.03   2.53   46.00   7.68   8.38   \n",
      "15  16    Rocket Pharmaceuticals Inc Wt   0.22   0.06   37.50   0.22   0.22   \n",
      "16  17                 SurgePays Inc Wt   0.96   0.26   37.14   0.96   0.96   \n",
      "17  18                bleuacacia ltd Rt   0.06   0.02   33.76   0.06   0.06   \n",
      "18  19              Destiny Tech100 Inc  44.08  10.54   31.43  42.12  48.53   \n",
      "19  20              Procaps Group SA Wt   0.09   0.02   28.00   0.07   0.09   \n",
      "\n",
      "      最低价    昨收价          总市值     市盈率         成交量          成交额      振幅   \n",
      "0    0.02   0.01          NaN     NaN       250.0          4.0    2.63  \\\n",
      "1    2.26   1.40   88426105.0  -11.59  26780629.0   88284125.0  115.71   \n",
      "2    0.05   0.02          NaN     NaN      1000.0         50.0    0.00   \n",
      "3    0.10   0.05          NaN     NaN     32770.0       3274.0   10.00   \n",
      "4    0.17   0.09          NaN     NaN     70228.0      12166.0   11.05   \n",
      "5    1.41   1.04   17740092.0   -0.25  46123365.0   75313000.0   46.16   \n",
      "6    0.04   0.02          NaN     NaN      6000.0        215.0    4.91   \n",
      "7    0.01   0.01          NaN     NaN      5300.0         75.0    0.00   \n",
      "8    0.06   0.04          NaN     NaN      5005.0        331.0   22.57   \n",
      "9    0.04   0.03          NaN     NaN       100.0          3.0    0.00   \n",
      "10   0.01   0.01          NaN     NaN     41122.0        271.0   56.92   \n",
      "11   7.83   5.73  386429754.0 -193.63  16652231.0  167930780.0   71.03   \n",
      "12   0.25   0.17          NaN     NaN       154.0         38.0    0.00   \n",
      "13   0.02   0.02          NaN     NaN    372009.0      10759.0   65.83   \n",
      "14   6.62   5.50  469562031.0  267.99   1445678.0   14852260.0   32.00   \n",
      "15   0.22   0.16          NaN     NaN      1851.0        407.0    0.00   \n",
      "16   0.96   0.70          NaN     NaN      5001.0       4800.0    0.00   \n",
      "17   0.06   0.05          NaN     NaN       200.0         12.0    0.00   \n",
      "18  40.02  33.54  479586212.0     NaN    866464.0   38487087.0   25.37   \n",
      "19   0.07   0.07          NaN     NaN       400.0         28.0   33.71   \n",
      "\n",
      "       换手率         代码  \n",
      "0      NaN  105.NCNCW  \n",
      "1   102.97   105.MDIA  \n",
      "2      NaN  105.RMGCW  \n",
      "3      NaN  105.HUBCZ  \n",
      "4      NaN  105.WTMAR  \n",
      "5   469.29   105.HUBC  \n",
      "6      NaN  105.WKSPW  \n",
      "7      NaN  105.BROGW  \n",
      "8      NaN  105.FAASW  \n",
      "9      NaN  105.INAQW  \n",
      "10     NaN  105.MNTSW  \n",
      "11   37.92   106.GCTS  \n",
      "12     NaN  105.RVMDW  \n",
      "13     NaN  105.HUBCW  \n",
      "14    2.47   105.FAAS  \n",
      "15     NaN  105.RCKTW  \n",
      "16     NaN  105.SURGW  \n",
      "17     NaN  105.BLEUR  \n",
      "18    7.96   106.DXYZ  \n",
      "19     NaN  105.PROCW  \n"
     ]
    },
    {
     "ename": "ReadTimeout",
     "evalue": "HTTPSConnectionPool(host='72.push2.eastmoney.com', port=443): Read timed out. (read timeout=15)",
     "output_type": "error",
     "traceback": [
      "\u001B[1;31m---------------------------------------------------------------------------\u001B[0m",
      "\u001B[1;31mTimeoutError\u001B[0m                              Traceback (most recent call last)",
      "File \u001B[1;32m~\\.conda\\envs\\totalnew\\lib\\site-packages\\urllib3\\connectionpool.py:466\u001B[0m, in \u001B[0;36mHTTPConnectionPool._make_request\u001B[1;34m(self, conn, method, url, timeout, chunked, **httplib_request_kw)\u001B[0m\n\u001B[0;32m    462\u001B[0m         \u001B[38;5;28;01mexcept\u001B[39;00m \u001B[38;5;167;01mBaseException\u001B[39;00m \u001B[38;5;28;01mas\u001B[39;00m e:\n\u001B[0;32m    463\u001B[0m             \u001B[38;5;66;03m# Remove the TypeError from the exception chain in\u001B[39;00m\n\u001B[0;32m    464\u001B[0m             \u001B[38;5;66;03m# Python 3 (including for exceptions like SystemExit).\u001B[39;00m\n\u001B[0;32m    465\u001B[0m             \u001B[38;5;66;03m# Otherwise it looks like a bug in the code.\u001B[39;00m\n\u001B[1;32m--> 466\u001B[0m             \u001B[43msix\u001B[49m\u001B[38;5;241;43m.\u001B[39;49m\u001B[43mraise_from\u001B[49m\u001B[43m(\u001B[49m\u001B[43me\u001B[49m\u001B[43m,\u001B[49m\u001B[43m \u001B[49m\u001B[38;5;28;43;01mNone\u001B[39;49;00m\u001B[43m)\u001B[49m\n\u001B[0;32m    467\u001B[0m \u001B[38;5;28;01mexcept\u001B[39;00m (SocketTimeout, BaseSSLError, SocketError) \u001B[38;5;28;01mas\u001B[39;00m e:\n",
      "File \u001B[1;32m<string>:3\u001B[0m, in \u001B[0;36mraise_from\u001B[1;34m(value, from_value)\u001B[0m\n",
      "File \u001B[1;32m~\\.conda\\envs\\totalnew\\lib\\site-packages\\urllib3\\connectionpool.py:461\u001B[0m, in \u001B[0;36mHTTPConnectionPool._make_request\u001B[1;34m(self, conn, method, url, timeout, chunked, **httplib_request_kw)\u001B[0m\n\u001B[0;32m    460\u001B[0m \u001B[38;5;28;01mtry\u001B[39;00m:\n\u001B[1;32m--> 461\u001B[0m     httplib_response \u001B[38;5;241m=\u001B[39m \u001B[43mconn\u001B[49m\u001B[38;5;241;43m.\u001B[39;49m\u001B[43mgetresponse\u001B[49m\u001B[43m(\u001B[49m\u001B[43m)\u001B[49m\n\u001B[0;32m    462\u001B[0m \u001B[38;5;28;01mexcept\u001B[39;00m \u001B[38;5;167;01mBaseException\u001B[39;00m \u001B[38;5;28;01mas\u001B[39;00m e:\n\u001B[0;32m    463\u001B[0m     \u001B[38;5;66;03m# Remove the TypeError from the exception chain in\u001B[39;00m\n\u001B[0;32m    464\u001B[0m     \u001B[38;5;66;03m# Python 3 (including for exceptions like SystemExit).\u001B[39;00m\n\u001B[0;32m    465\u001B[0m     \u001B[38;5;66;03m# Otherwise it looks like a bug in the code.\u001B[39;00m\n",
      "File \u001B[1;32m~\\.conda\\envs\\totalnew\\lib\\http\\client.py:1374\u001B[0m, in \u001B[0;36mHTTPConnection.getresponse\u001B[1;34m(self)\u001B[0m\n\u001B[0;32m   1373\u001B[0m \u001B[38;5;28;01mtry\u001B[39;00m:\n\u001B[1;32m-> 1374\u001B[0m     \u001B[43mresponse\u001B[49m\u001B[38;5;241;43m.\u001B[39;49m\u001B[43mbegin\u001B[49m\u001B[43m(\u001B[49m\u001B[43m)\u001B[49m\n\u001B[0;32m   1375\u001B[0m \u001B[38;5;28;01mexcept\u001B[39;00m \u001B[38;5;167;01mConnectionError\u001B[39;00m:\n",
      "File \u001B[1;32m~\\.conda\\envs\\totalnew\\lib\\http\\client.py:318\u001B[0m, in \u001B[0;36mHTTPResponse.begin\u001B[1;34m(self)\u001B[0m\n\u001B[0;32m    317\u001B[0m \u001B[38;5;28;01mwhile\u001B[39;00m \u001B[38;5;28;01mTrue\u001B[39;00m:\n\u001B[1;32m--> 318\u001B[0m     version, status, reason \u001B[38;5;241m=\u001B[39m \u001B[38;5;28;43mself\u001B[39;49m\u001B[38;5;241;43m.\u001B[39;49m\u001B[43m_read_status\u001B[49m\u001B[43m(\u001B[49m\u001B[43m)\u001B[49m\n\u001B[0;32m    319\u001B[0m     \u001B[38;5;28;01mif\u001B[39;00m status \u001B[38;5;241m!=\u001B[39m CONTINUE:\n",
      "File \u001B[1;32m~\\.conda\\envs\\totalnew\\lib\\http\\client.py:279\u001B[0m, in \u001B[0;36mHTTPResponse._read_status\u001B[1;34m(self)\u001B[0m\n\u001B[0;32m    278\u001B[0m \u001B[38;5;28;01mdef\u001B[39;00m \u001B[38;5;21m_read_status\u001B[39m(\u001B[38;5;28mself\u001B[39m):\n\u001B[1;32m--> 279\u001B[0m     line \u001B[38;5;241m=\u001B[39m \u001B[38;5;28mstr\u001B[39m(\u001B[38;5;28;43mself\u001B[39;49m\u001B[38;5;241;43m.\u001B[39;49m\u001B[43mfp\u001B[49m\u001B[38;5;241;43m.\u001B[39;49m\u001B[43mreadline\u001B[49m\u001B[43m(\u001B[49m\u001B[43m_MAXLINE\u001B[49m\u001B[43m \u001B[49m\u001B[38;5;241;43m+\u001B[39;49m\u001B[43m \u001B[49m\u001B[38;5;241;43m1\u001B[39;49m\u001B[43m)\u001B[49m, \u001B[38;5;124m\"\u001B[39m\u001B[38;5;124miso-8859-1\u001B[39m\u001B[38;5;124m\"\u001B[39m)\n\u001B[0;32m    280\u001B[0m     \u001B[38;5;28;01mif\u001B[39;00m \u001B[38;5;28mlen\u001B[39m(line) \u001B[38;5;241m>\u001B[39m _MAXLINE:\n",
      "File \u001B[1;32m~\\.conda\\envs\\totalnew\\lib\\socket.py:705\u001B[0m, in \u001B[0;36mSocketIO.readinto\u001B[1;34m(self, b)\u001B[0m\n\u001B[0;32m    704\u001B[0m \u001B[38;5;28;01mtry\u001B[39;00m:\n\u001B[1;32m--> 705\u001B[0m     \u001B[38;5;28;01mreturn\u001B[39;00m \u001B[38;5;28;43mself\u001B[39;49m\u001B[38;5;241;43m.\u001B[39;49m\u001B[43m_sock\u001B[49m\u001B[38;5;241;43m.\u001B[39;49m\u001B[43mrecv_into\u001B[49m\u001B[43m(\u001B[49m\u001B[43mb\u001B[49m\u001B[43m)\u001B[49m\n\u001B[0;32m    706\u001B[0m \u001B[38;5;28;01mexcept\u001B[39;00m timeout:\n",
      "File \u001B[1;32m~\\.conda\\envs\\totalnew\\lib\\ssl.py:1274\u001B[0m, in \u001B[0;36mSSLSocket.recv_into\u001B[1;34m(self, buffer, nbytes, flags)\u001B[0m\n\u001B[0;32m   1271\u001B[0m         \u001B[38;5;28;01mraise\u001B[39;00m \u001B[38;5;167;01mValueError\u001B[39;00m(\n\u001B[0;32m   1272\u001B[0m           \u001B[38;5;124m\"\u001B[39m\u001B[38;5;124mnon-zero flags not allowed in calls to recv_into() on \u001B[39m\u001B[38;5;132;01m%s\u001B[39;00m\u001B[38;5;124m\"\u001B[39m \u001B[38;5;241m%\u001B[39m\n\u001B[0;32m   1273\u001B[0m           \u001B[38;5;28mself\u001B[39m\u001B[38;5;241m.\u001B[39m\u001B[38;5;18m__class__\u001B[39m)\n\u001B[1;32m-> 1274\u001B[0m     \u001B[38;5;28;01mreturn\u001B[39;00m \u001B[38;5;28;43mself\u001B[39;49m\u001B[38;5;241;43m.\u001B[39;49m\u001B[43mread\u001B[49m\u001B[43m(\u001B[49m\u001B[43mnbytes\u001B[49m\u001B[43m,\u001B[49m\u001B[43m \u001B[49m\u001B[43mbuffer\u001B[49m\u001B[43m)\u001B[49m\n\u001B[0;32m   1275\u001B[0m \u001B[38;5;28;01melse\u001B[39;00m:\n",
      "File \u001B[1;32m~\\.conda\\envs\\totalnew\\lib\\ssl.py:1130\u001B[0m, in \u001B[0;36mSSLSocket.read\u001B[1;34m(self, len, buffer)\u001B[0m\n\u001B[0;32m   1129\u001B[0m \u001B[38;5;28;01mif\u001B[39;00m buffer \u001B[38;5;129;01mis\u001B[39;00m \u001B[38;5;129;01mnot\u001B[39;00m \u001B[38;5;28;01mNone\u001B[39;00m:\n\u001B[1;32m-> 1130\u001B[0m     \u001B[38;5;28;01mreturn\u001B[39;00m \u001B[38;5;28;43mself\u001B[39;49m\u001B[38;5;241;43m.\u001B[39;49m\u001B[43m_sslobj\u001B[49m\u001B[38;5;241;43m.\u001B[39;49m\u001B[43mread\u001B[49m\u001B[43m(\u001B[49m\u001B[38;5;28;43mlen\u001B[39;49m\u001B[43m,\u001B[49m\u001B[43m \u001B[49m\u001B[43mbuffer\u001B[49m\u001B[43m)\u001B[49m\n\u001B[0;32m   1131\u001B[0m \u001B[38;5;28;01melse\u001B[39;00m:\n",
      "\u001B[1;31mTimeoutError\u001B[0m: The read operation timed out",
      "\nDuring handling of the above exception, another exception occurred:\n",
      "\u001B[1;31mReadTimeoutError\u001B[0m                          Traceback (most recent call last)",
      "File \u001B[1;32m~\\.conda\\envs\\totalnew\\lib\\site-packages\\requests\\adapters.py:486\u001B[0m, in \u001B[0;36mHTTPAdapter.send\u001B[1;34m(self, request, stream, timeout, verify, cert, proxies)\u001B[0m\n\u001B[0;32m    485\u001B[0m \u001B[38;5;28;01mtry\u001B[39;00m:\n\u001B[1;32m--> 486\u001B[0m     resp \u001B[38;5;241m=\u001B[39m \u001B[43mconn\u001B[49m\u001B[38;5;241;43m.\u001B[39;49m\u001B[43murlopen\u001B[49m\u001B[43m(\u001B[49m\n\u001B[0;32m    487\u001B[0m \u001B[43m        \u001B[49m\u001B[43mmethod\u001B[49m\u001B[38;5;241;43m=\u001B[39;49m\u001B[43mrequest\u001B[49m\u001B[38;5;241;43m.\u001B[39;49m\u001B[43mmethod\u001B[49m\u001B[43m,\u001B[49m\n\u001B[0;32m    488\u001B[0m \u001B[43m        \u001B[49m\u001B[43murl\u001B[49m\u001B[38;5;241;43m=\u001B[39;49m\u001B[43murl\u001B[49m\u001B[43m,\u001B[49m\n\u001B[0;32m    489\u001B[0m \u001B[43m        \u001B[49m\u001B[43mbody\u001B[49m\u001B[38;5;241;43m=\u001B[39;49m\u001B[43mrequest\u001B[49m\u001B[38;5;241;43m.\u001B[39;49m\u001B[43mbody\u001B[49m\u001B[43m,\u001B[49m\n\u001B[0;32m    490\u001B[0m \u001B[43m        \u001B[49m\u001B[43mheaders\u001B[49m\u001B[38;5;241;43m=\u001B[39;49m\u001B[43mrequest\u001B[49m\u001B[38;5;241;43m.\u001B[39;49m\u001B[43mheaders\u001B[49m\u001B[43m,\u001B[49m\n\u001B[0;32m    491\u001B[0m \u001B[43m        \u001B[49m\u001B[43mredirect\u001B[49m\u001B[38;5;241;43m=\u001B[39;49m\u001B[38;5;28;43;01mFalse\u001B[39;49;00m\u001B[43m,\u001B[49m\n\u001B[0;32m    492\u001B[0m \u001B[43m        \u001B[49m\u001B[43massert_same_host\u001B[49m\u001B[38;5;241;43m=\u001B[39;49m\u001B[38;5;28;43;01mFalse\u001B[39;49;00m\u001B[43m,\u001B[49m\n\u001B[0;32m    493\u001B[0m \u001B[43m        \u001B[49m\u001B[43mpreload_content\u001B[49m\u001B[38;5;241;43m=\u001B[39;49m\u001B[38;5;28;43;01mFalse\u001B[39;49;00m\u001B[43m,\u001B[49m\n\u001B[0;32m    494\u001B[0m \u001B[43m        \u001B[49m\u001B[43mdecode_content\u001B[49m\u001B[38;5;241;43m=\u001B[39;49m\u001B[38;5;28;43;01mFalse\u001B[39;49;00m\u001B[43m,\u001B[49m\n\u001B[0;32m    495\u001B[0m \u001B[43m        \u001B[49m\u001B[43mretries\u001B[49m\u001B[38;5;241;43m=\u001B[39;49m\u001B[38;5;28;43mself\u001B[39;49m\u001B[38;5;241;43m.\u001B[39;49m\u001B[43mmax_retries\u001B[49m\u001B[43m,\u001B[49m\n\u001B[0;32m    496\u001B[0m \u001B[43m        \u001B[49m\u001B[43mtimeout\u001B[49m\u001B[38;5;241;43m=\u001B[39;49m\u001B[43mtimeout\u001B[49m\u001B[43m,\u001B[49m\n\u001B[0;32m    497\u001B[0m \u001B[43m        \u001B[49m\u001B[43mchunked\u001B[49m\u001B[38;5;241;43m=\u001B[39;49m\u001B[43mchunked\u001B[49m\u001B[43m,\u001B[49m\n\u001B[0;32m    498\u001B[0m \u001B[43m    \u001B[49m\u001B[43m)\u001B[49m\n\u001B[0;32m    500\u001B[0m \u001B[38;5;28;01mexcept\u001B[39;00m (ProtocolError, \u001B[38;5;167;01mOSError\u001B[39;00m) \u001B[38;5;28;01mas\u001B[39;00m err:\n",
      "File \u001B[1;32m~\\.conda\\envs\\totalnew\\lib\\site-packages\\urllib3\\connectionpool.py:798\u001B[0m, in \u001B[0;36mHTTPConnectionPool.urlopen\u001B[1;34m(self, method, url, body, headers, retries, redirect, assert_same_host, timeout, pool_timeout, release_conn, chunked, body_pos, **response_kw)\u001B[0m\n\u001B[0;32m    796\u001B[0m     e \u001B[38;5;241m=\u001B[39m ProtocolError(\u001B[38;5;124m\"\u001B[39m\u001B[38;5;124mConnection aborted.\u001B[39m\u001B[38;5;124m\"\u001B[39m, e)\n\u001B[1;32m--> 798\u001B[0m retries \u001B[38;5;241m=\u001B[39m \u001B[43mretries\u001B[49m\u001B[38;5;241;43m.\u001B[39;49m\u001B[43mincrement\u001B[49m\u001B[43m(\u001B[49m\n\u001B[0;32m    799\u001B[0m \u001B[43m    \u001B[49m\u001B[43mmethod\u001B[49m\u001B[43m,\u001B[49m\u001B[43m \u001B[49m\u001B[43murl\u001B[49m\u001B[43m,\u001B[49m\u001B[43m \u001B[49m\u001B[43merror\u001B[49m\u001B[38;5;241;43m=\u001B[39;49m\u001B[43me\u001B[49m\u001B[43m,\u001B[49m\u001B[43m \u001B[49m\u001B[43m_pool\u001B[49m\u001B[38;5;241;43m=\u001B[39;49m\u001B[38;5;28;43mself\u001B[39;49m\u001B[43m,\u001B[49m\u001B[43m \u001B[49m\u001B[43m_stacktrace\u001B[49m\u001B[38;5;241;43m=\u001B[39;49m\u001B[43msys\u001B[49m\u001B[38;5;241;43m.\u001B[39;49m\u001B[43mexc_info\u001B[49m\u001B[43m(\u001B[49m\u001B[43m)\u001B[49m\u001B[43m[\u001B[49m\u001B[38;5;241;43m2\u001B[39;49m\u001B[43m]\u001B[49m\n\u001B[0;32m    800\u001B[0m \u001B[43m\u001B[49m\u001B[43m)\u001B[49m\n\u001B[0;32m    801\u001B[0m retries\u001B[38;5;241m.\u001B[39msleep()\n",
      "File \u001B[1;32m~\\.conda\\envs\\totalnew\\lib\\site-packages\\urllib3\\util\\retry.py:550\u001B[0m, in \u001B[0;36mRetry.increment\u001B[1;34m(self, method, url, response, error, _pool, _stacktrace)\u001B[0m\n\u001B[0;32m    549\u001B[0m \u001B[38;5;28;01mif\u001B[39;00m read \u001B[38;5;129;01mis\u001B[39;00m \u001B[38;5;28;01mFalse\u001B[39;00m \u001B[38;5;129;01mor\u001B[39;00m \u001B[38;5;129;01mnot\u001B[39;00m \u001B[38;5;28mself\u001B[39m\u001B[38;5;241m.\u001B[39m_is_method_retryable(method):\n\u001B[1;32m--> 550\u001B[0m     \u001B[38;5;28;01mraise\u001B[39;00m \u001B[43msix\u001B[49m\u001B[38;5;241;43m.\u001B[39;49m\u001B[43mreraise\u001B[49m\u001B[43m(\u001B[49m\u001B[38;5;28;43mtype\u001B[39;49m\u001B[43m(\u001B[49m\u001B[43merror\u001B[49m\u001B[43m)\u001B[49m\u001B[43m,\u001B[49m\u001B[43m \u001B[49m\u001B[43merror\u001B[49m\u001B[43m,\u001B[49m\u001B[43m \u001B[49m\u001B[43m_stacktrace\u001B[49m\u001B[43m)\u001B[49m\n\u001B[0;32m    551\u001B[0m \u001B[38;5;28;01melif\u001B[39;00m read \u001B[38;5;129;01mis\u001B[39;00m \u001B[38;5;129;01mnot\u001B[39;00m \u001B[38;5;28;01mNone\u001B[39;00m:\n",
      "File \u001B[1;32m~\\.conda\\envs\\totalnew\\lib\\site-packages\\urllib3\\packages\\six.py:770\u001B[0m, in \u001B[0;36mreraise\u001B[1;34m(tp, value, tb)\u001B[0m\n\u001B[0;32m    769\u001B[0m         \u001B[38;5;28;01mraise\u001B[39;00m value\u001B[38;5;241m.\u001B[39mwith_traceback(tb)\n\u001B[1;32m--> 770\u001B[0m     \u001B[38;5;28;01mraise\u001B[39;00m value\n\u001B[0;32m    771\u001B[0m \u001B[38;5;28;01mfinally\u001B[39;00m:\n",
      "File \u001B[1;32m~\\.conda\\envs\\totalnew\\lib\\site-packages\\urllib3\\connectionpool.py:714\u001B[0m, in \u001B[0;36mHTTPConnectionPool.urlopen\u001B[1;34m(self, method, url, body, headers, retries, redirect, assert_same_host, timeout, pool_timeout, release_conn, chunked, body_pos, **response_kw)\u001B[0m\n\u001B[0;32m    713\u001B[0m \u001B[38;5;66;03m# Make the request on the httplib connection object.\u001B[39;00m\n\u001B[1;32m--> 714\u001B[0m httplib_response \u001B[38;5;241m=\u001B[39m \u001B[38;5;28;43mself\u001B[39;49m\u001B[38;5;241;43m.\u001B[39;49m\u001B[43m_make_request\u001B[49m\u001B[43m(\u001B[49m\n\u001B[0;32m    715\u001B[0m \u001B[43m    \u001B[49m\u001B[43mconn\u001B[49m\u001B[43m,\u001B[49m\n\u001B[0;32m    716\u001B[0m \u001B[43m    \u001B[49m\u001B[43mmethod\u001B[49m\u001B[43m,\u001B[49m\n\u001B[0;32m    717\u001B[0m \u001B[43m    \u001B[49m\u001B[43murl\u001B[49m\u001B[43m,\u001B[49m\n\u001B[0;32m    718\u001B[0m \u001B[43m    \u001B[49m\u001B[43mtimeout\u001B[49m\u001B[38;5;241;43m=\u001B[39;49m\u001B[43mtimeout_obj\u001B[49m\u001B[43m,\u001B[49m\n\u001B[0;32m    719\u001B[0m \u001B[43m    \u001B[49m\u001B[43mbody\u001B[49m\u001B[38;5;241;43m=\u001B[39;49m\u001B[43mbody\u001B[49m\u001B[43m,\u001B[49m\n\u001B[0;32m    720\u001B[0m \u001B[43m    \u001B[49m\u001B[43mheaders\u001B[49m\u001B[38;5;241;43m=\u001B[39;49m\u001B[43mheaders\u001B[49m\u001B[43m,\u001B[49m\n\u001B[0;32m    721\u001B[0m \u001B[43m    \u001B[49m\u001B[43mchunked\u001B[49m\u001B[38;5;241;43m=\u001B[39;49m\u001B[43mchunked\u001B[49m\u001B[43m,\u001B[49m\n\u001B[0;32m    722\u001B[0m \u001B[43m\u001B[49m\u001B[43m)\u001B[49m\n\u001B[0;32m    724\u001B[0m \u001B[38;5;66;03m# If we're going to release the connection in ``finally:``, then\u001B[39;00m\n\u001B[0;32m    725\u001B[0m \u001B[38;5;66;03m# the response doesn't need to know about the connection. Otherwise\u001B[39;00m\n\u001B[0;32m    726\u001B[0m \u001B[38;5;66;03m# it will also try to release it and we'll have a double-release\u001B[39;00m\n\u001B[0;32m    727\u001B[0m \u001B[38;5;66;03m# mess.\u001B[39;00m\n",
      "File \u001B[1;32m~\\.conda\\envs\\totalnew\\lib\\site-packages\\urllib3\\connectionpool.py:468\u001B[0m, in \u001B[0;36mHTTPConnectionPool._make_request\u001B[1;34m(self, conn, method, url, timeout, chunked, **httplib_request_kw)\u001B[0m\n\u001B[0;32m    467\u001B[0m \u001B[38;5;28;01mexcept\u001B[39;00m (SocketTimeout, BaseSSLError, SocketError) \u001B[38;5;28;01mas\u001B[39;00m e:\n\u001B[1;32m--> 468\u001B[0m     \u001B[38;5;28;43mself\u001B[39;49m\u001B[38;5;241;43m.\u001B[39;49m\u001B[43m_raise_timeout\u001B[49m\u001B[43m(\u001B[49m\u001B[43merr\u001B[49m\u001B[38;5;241;43m=\u001B[39;49m\u001B[43me\u001B[49m\u001B[43m,\u001B[49m\u001B[43m \u001B[49m\u001B[43murl\u001B[49m\u001B[38;5;241;43m=\u001B[39;49m\u001B[43murl\u001B[49m\u001B[43m,\u001B[49m\u001B[43m \u001B[49m\u001B[43mtimeout_value\u001B[49m\u001B[38;5;241;43m=\u001B[39;49m\u001B[43mread_timeout\u001B[49m\u001B[43m)\u001B[49m\n\u001B[0;32m    469\u001B[0m     \u001B[38;5;28;01mraise\u001B[39;00m\n",
      "File \u001B[1;32m~\\.conda\\envs\\totalnew\\lib\\site-packages\\urllib3\\connectionpool.py:357\u001B[0m, in \u001B[0;36mHTTPConnectionPool._raise_timeout\u001B[1;34m(self, err, url, timeout_value)\u001B[0m\n\u001B[0;32m    356\u001B[0m \u001B[38;5;28;01mif\u001B[39;00m \u001B[38;5;28misinstance\u001B[39m(err, SocketTimeout):\n\u001B[1;32m--> 357\u001B[0m     \u001B[38;5;28;01mraise\u001B[39;00m ReadTimeoutError(\n\u001B[0;32m    358\u001B[0m         \u001B[38;5;28mself\u001B[39m, url, \u001B[38;5;124m\"\u001B[39m\u001B[38;5;124mRead timed out. (read timeout=\u001B[39m\u001B[38;5;132;01m%s\u001B[39;00m\u001B[38;5;124m)\u001B[39m\u001B[38;5;124m\"\u001B[39m \u001B[38;5;241m%\u001B[39m timeout_value\n\u001B[0;32m    359\u001B[0m     )\n\u001B[0;32m    361\u001B[0m \u001B[38;5;66;03m# See the above comment about EAGAIN in Python 3. In Python 2 we have\u001B[39;00m\n\u001B[0;32m    362\u001B[0m \u001B[38;5;66;03m# to specifically catch it and throw the timeout error\u001B[39;00m\n",
      "\u001B[1;31mReadTimeoutError\u001B[0m: HTTPSConnectionPool(host='72.push2.eastmoney.com', port=443): Read timed out. (read timeout=15)",
      "\nDuring handling of the above exception, another exception occurred:\n",
      "\u001B[1;31mReadTimeout\u001B[0m                               Traceback (most recent call last)",
      "Cell \u001B[1;32mIn[31], line 5\u001B[0m\n\u001B[0;32m      3\u001B[0m \u001B[38;5;28;01mfor\u001B[39;00m i \u001B[38;5;129;01min\u001B[39;00m \u001B[38;5;28mrange\u001B[39m(\u001B[38;5;241m1000\u001B[39m):\n\u001B[0;32m      4\u001B[0m     time\u001B[38;5;241m.\u001B[39msleep(\u001B[38;5;241m60\u001B[39m)\n\u001B[1;32m----> 5\u001B[0m     df_slice \u001B[38;5;241m=\u001B[39m \u001B[43mak\u001B[49m\u001B[38;5;241;43m.\u001B[39;49m\u001B[43mstock_us_spot_em\u001B[49m\u001B[43m(\u001B[49m\u001B[43m)\u001B[49m\n\u001B[0;32m      6\u001B[0m     \u001B[38;5;28;01mif\u001B[39;00m \u001B[38;5;129;01mnot\u001B[39;00m df_slice\u001B[38;5;241m.\u001B[39mempty:\n\u001B[0;32m      7\u001B[0m         count \u001B[38;5;241m+\u001B[39m\u001B[38;5;241m=\u001B[39m \u001B[38;5;241m1\u001B[39m\n",
      "File \u001B[1;32m~\\.conda\\envs\\totalnew\\lib\\site-packages\\akshare\\stock_feature\\stock_hist_em.py:1680\u001B[0m, in \u001B[0;36mstock_us_spot_em\u001B[1;34m()\u001B[0m\n\u001B[0;32m   1665\u001B[0m url \u001B[38;5;241m=\u001B[39m \u001B[38;5;124m\"\u001B[39m\u001B[38;5;124mhttps://72.push2.eastmoney.com/api/qt/clist/get\u001B[39m\u001B[38;5;124m\"\u001B[39m\n\u001B[0;32m   1666\u001B[0m params \u001B[38;5;241m=\u001B[39m {\n\u001B[0;32m   1667\u001B[0m     \u001B[38;5;124m\"\u001B[39m\u001B[38;5;124mpn\u001B[39m\u001B[38;5;124m\"\u001B[39m: \u001B[38;5;124m\"\u001B[39m\u001B[38;5;124m1\u001B[39m\u001B[38;5;124m\"\u001B[39m,\n\u001B[0;32m   1668\u001B[0m     \u001B[38;5;124m\"\u001B[39m\u001B[38;5;124mpz\u001B[39m\u001B[38;5;124m\"\u001B[39m: \u001B[38;5;124m\"\u001B[39m\u001B[38;5;124m20000\u001B[39m\u001B[38;5;124m\"\u001B[39m,\n\u001B[1;32m   (...)\u001B[0m\n\u001B[0;32m   1678\u001B[0m     \u001B[38;5;124m\"\u001B[39m\u001B[38;5;124m_\u001B[39m\u001B[38;5;124m\"\u001B[39m: \u001B[38;5;124m\"\u001B[39m\u001B[38;5;124m1624010056945\u001B[39m\u001B[38;5;124m\"\u001B[39m,\n\u001B[0;32m   1679\u001B[0m }\n\u001B[1;32m-> 1680\u001B[0m r \u001B[38;5;241m=\u001B[39m \u001B[43mrequests\u001B[49m\u001B[38;5;241;43m.\u001B[39;49m\u001B[43mget\u001B[49m\u001B[43m(\u001B[49m\u001B[43murl\u001B[49m\u001B[43m,\u001B[49m\u001B[43m \u001B[49m\u001B[43mtimeout\u001B[49m\u001B[38;5;241;43m=\u001B[39;49m\u001B[38;5;241;43m15\u001B[39;49m\u001B[43m,\u001B[49m\u001B[43m \u001B[49m\u001B[43mparams\u001B[49m\u001B[38;5;241;43m=\u001B[39;49m\u001B[43mparams\u001B[49m\u001B[43m)\u001B[49m\n\u001B[0;32m   1681\u001B[0m data_json \u001B[38;5;241m=\u001B[39m r\u001B[38;5;241m.\u001B[39mjson()\n\u001B[0;32m   1682\u001B[0m temp_df \u001B[38;5;241m=\u001B[39m pd\u001B[38;5;241m.\u001B[39mDataFrame(data_json[\u001B[38;5;124m\"\u001B[39m\u001B[38;5;124mdata\u001B[39m\u001B[38;5;124m\"\u001B[39m][\u001B[38;5;124m\"\u001B[39m\u001B[38;5;124mdiff\u001B[39m\u001B[38;5;124m\"\u001B[39m])\n",
      "File \u001B[1;32m~\\.conda\\envs\\totalnew\\lib\\site-packages\\requests\\api.py:73\u001B[0m, in \u001B[0;36mget\u001B[1;34m(url, params, **kwargs)\u001B[0m\n\u001B[0;32m     62\u001B[0m \u001B[38;5;28;01mdef\u001B[39;00m \u001B[38;5;21mget\u001B[39m(url, params\u001B[38;5;241m=\u001B[39m\u001B[38;5;28;01mNone\u001B[39;00m, \u001B[38;5;241m*\u001B[39m\u001B[38;5;241m*\u001B[39mkwargs):\n\u001B[0;32m     63\u001B[0m \u001B[38;5;250m    \u001B[39m\u001B[38;5;124mr\u001B[39m\u001B[38;5;124;03m\"\"\"Sends a GET request.\u001B[39;00m\n\u001B[0;32m     64\u001B[0m \n\u001B[0;32m     65\u001B[0m \u001B[38;5;124;03m    :param url: URL for the new :class:`Request` object.\u001B[39;00m\n\u001B[1;32m   (...)\u001B[0m\n\u001B[0;32m     70\u001B[0m \u001B[38;5;124;03m    :rtype: requests.Response\u001B[39;00m\n\u001B[0;32m     71\u001B[0m \u001B[38;5;124;03m    \"\"\"\u001B[39;00m\n\u001B[1;32m---> 73\u001B[0m     \u001B[38;5;28;01mreturn\u001B[39;00m request(\u001B[38;5;124m\"\u001B[39m\u001B[38;5;124mget\u001B[39m\u001B[38;5;124m\"\u001B[39m, url, params\u001B[38;5;241m=\u001B[39mparams, \u001B[38;5;241m*\u001B[39m\u001B[38;5;241m*\u001B[39mkwargs)\n",
      "File \u001B[1;32m~\\.conda\\envs\\totalnew\\lib\\site-packages\\requests\\api.py:59\u001B[0m, in \u001B[0;36mrequest\u001B[1;34m(method, url, **kwargs)\u001B[0m\n\u001B[0;32m     55\u001B[0m \u001B[38;5;66;03m# By using the 'with' statement we are sure the session is closed, thus we\u001B[39;00m\n\u001B[0;32m     56\u001B[0m \u001B[38;5;66;03m# avoid leaving sockets open which can trigger a ResourceWarning in some\u001B[39;00m\n\u001B[0;32m     57\u001B[0m \u001B[38;5;66;03m# cases, and look like a memory leak in others.\u001B[39;00m\n\u001B[0;32m     58\u001B[0m \u001B[38;5;28;01mwith\u001B[39;00m sessions\u001B[38;5;241m.\u001B[39mSession() \u001B[38;5;28;01mas\u001B[39;00m session:\n\u001B[1;32m---> 59\u001B[0m     \u001B[38;5;28;01mreturn\u001B[39;00m session\u001B[38;5;241m.\u001B[39mrequest(method\u001B[38;5;241m=\u001B[39mmethod, url\u001B[38;5;241m=\u001B[39murl, \u001B[38;5;241m*\u001B[39m\u001B[38;5;241m*\u001B[39mkwargs)\n",
      "File \u001B[1;32m~\\.conda\\envs\\totalnew\\lib\\site-packages\\requests\\sessions.py:589\u001B[0m, in \u001B[0;36mSession.request\u001B[1;34m(self, method, url, params, data, headers, cookies, files, auth, timeout, allow_redirects, proxies, hooks, stream, verify, cert, json)\u001B[0m\n\u001B[0;32m    584\u001B[0m send_kwargs \u001B[38;5;241m=\u001B[39m {\n\u001B[0;32m    585\u001B[0m     \u001B[38;5;124m\"\u001B[39m\u001B[38;5;124mtimeout\u001B[39m\u001B[38;5;124m\"\u001B[39m: timeout,\n\u001B[0;32m    586\u001B[0m     \u001B[38;5;124m\"\u001B[39m\u001B[38;5;124mallow_redirects\u001B[39m\u001B[38;5;124m\"\u001B[39m: allow_redirects,\n\u001B[0;32m    587\u001B[0m }\n\u001B[0;32m    588\u001B[0m send_kwargs\u001B[38;5;241m.\u001B[39mupdate(settings)\n\u001B[1;32m--> 589\u001B[0m resp \u001B[38;5;241m=\u001B[39m \u001B[38;5;28mself\u001B[39m\u001B[38;5;241m.\u001B[39msend(prep, \u001B[38;5;241m*\u001B[39m\u001B[38;5;241m*\u001B[39msend_kwargs)\n\u001B[0;32m    591\u001B[0m \u001B[38;5;28;01mreturn\u001B[39;00m resp\n",
      "File \u001B[1;32m~\\.conda\\envs\\totalnew\\lib\\site-packages\\requests\\sessions.py:703\u001B[0m, in \u001B[0;36mSession.send\u001B[1;34m(self, request, **kwargs)\u001B[0m\n\u001B[0;32m    700\u001B[0m start \u001B[38;5;241m=\u001B[39m preferred_clock()\n\u001B[0;32m    702\u001B[0m \u001B[38;5;66;03m# Send the request\u001B[39;00m\n\u001B[1;32m--> 703\u001B[0m r \u001B[38;5;241m=\u001B[39m adapter\u001B[38;5;241m.\u001B[39msend(request, \u001B[38;5;241m*\u001B[39m\u001B[38;5;241m*\u001B[39mkwargs)\n\u001B[0;32m    705\u001B[0m \u001B[38;5;66;03m# Total elapsed time of the request (approximately)\u001B[39;00m\n\u001B[0;32m    706\u001B[0m elapsed \u001B[38;5;241m=\u001B[39m preferred_clock() \u001B[38;5;241m-\u001B[39m start\n",
      "File \u001B[1;32m~\\.conda\\envs\\totalnew\\lib\\site-packages\\requests\\adapters.py:532\u001B[0m, in \u001B[0;36mHTTPAdapter.send\u001B[1;34m(self, request, stream, timeout, verify, cert, proxies)\u001B[0m\n\u001B[0;32m    530\u001B[0m     \u001B[38;5;28;01mraise\u001B[39;00m SSLError(e, request\u001B[38;5;241m=\u001B[39mrequest)\n\u001B[0;32m    531\u001B[0m \u001B[38;5;28;01melif\u001B[39;00m \u001B[38;5;28misinstance\u001B[39m(e, ReadTimeoutError):\n\u001B[1;32m--> 532\u001B[0m     \u001B[38;5;28;01mraise\u001B[39;00m ReadTimeout(e, request\u001B[38;5;241m=\u001B[39mrequest)\n\u001B[0;32m    533\u001B[0m \u001B[38;5;28;01melif\u001B[39;00m \u001B[38;5;28misinstance\u001B[39m(e, _InvalidHeader):\n\u001B[0;32m    534\u001B[0m     \u001B[38;5;28;01mraise\u001B[39;00m InvalidHeader(e, request\u001B[38;5;241m=\u001B[39mrequest)\n",
      "\u001B[1;31mReadTimeout\u001B[0m: HTTPSConnectionPool(host='72.push2.eastmoney.com', port=443): Read timed out. (read timeout=15)"
     ]
    }
   ],
   "source": [
    "count = 0\n",
    "# This section will test whether this API can continuously query data\n",
    "for i in range(1000):\n",
    "    time.sleep(60)\n",
    "    df_slice = ak.stock_us_spot_em()\n",
    "    if not df_slice.empty:\n",
    "        count += 1\n",
    "    print(count)\n",
    "    print(df_slice.head(20))\n"
   ],
   "metadata": {
    "collapsed": false,
    "pycharm": {
     "name": "#%%\n"
    }
   }
  },
  {
   "cell_type": "code",
   "execution_count": 32,
   "outputs": [
    {
     "name": "stdout",
     "output_type": "stream",
     "text": [
      "['105.MDIA' '105.NCNCW' '105.SHPWW' ... '107.VHAI_WS_B' '105.ONFOW'\n",
      " '105.STIXW']\n"
     ]
    }
   ],
   "source": [
    "us_spot = ak.stock_us_spot_em()\n",
    "us_stock_list = us_spot['代码'].unique()\n",
    "print(us_stock_list)"
   ],
   "metadata": {
    "collapsed": false,
    "pycharm": {
     "name": "#%%\n"
    }
   }
  },
  {
   "cell_type": "code",
   "execution_count": 37,
   "outputs": [
    {
     "name": "stdout",
     "output_type": "stream",
     "text": [
      "                      时间   开盘    收盘    最高    最低    成交量      成交额    最新价   \n",
      "0    2024-04-03 00:00:00  0.0  0.87  0.87  0.86  32000  27658.0  0.857  \\\n",
      "1    2024-04-03 00:01:00  0.0  0.87  0.87  0.87  10173   8816.0  0.857   \n",
      "2    2024-04-03 00:02:00  0.0  0.87  0.87  0.87   2975   2550.0  0.857   \n",
      "3    2024-04-03 00:03:00  0.0  0.87  0.87  0.87      0      0.0  0.857   \n",
      "4    2024-04-03 00:04:00  0.0  0.85  0.87  0.85  13103  11229.0  0.857   \n",
      "..                   ...  ...   ...   ...   ...    ...      ...    ...   \n",
      "777  2024-04-04 23:55:00  0.0  1.22  1.22  1.22      0      0.0  1.454   \n",
      "778  2024-04-04 23:56:00  0.0  1.18  1.19  1.18   1274   1428.0  1.454   \n",
      "779  2024-04-04 23:57:00  0.0  1.23  1.23  1.18    139    162.0  1.454   \n",
      "780  2024-04-04 23:58:00  0.0  1.23  1.23  1.23      0      0.0  1.454   \n",
      "781  2024-04-04 23:59:00  0.0  1.23  1.23  1.23      0      0.0  1.454   \n",
      "\n",
      "       ticker  \n",
      "0    105.MDIA  \n",
      "1    105.MDIA  \n",
      "2    105.MDIA  \n",
      "3    105.MDIA  \n",
      "4    105.MDIA  \n",
      "..        ...  \n",
      "777  105.MDIA  \n",
      "778  105.MDIA  \n",
      "779  105.MDIA  \n",
      "780  105.MDIA  \n",
      "781  105.MDIA  \n",
      "\n",
      "[782 rows x 9 columns]\n"
     ]
    },
    {
     "name": "stderr",
     "output_type": "stream",
     "text": [
      "  1%|          | 135/11591 [01:30<2:08:21,  1.49it/s]\n",
      "\n",
      "KeyboardInterrupt\n",
      "\n"
     ]
    }
   ],
   "source": [
    "import pandas as pd\n",
    "from tqdm import tqdm\n",
    "total_df = ak.stock_us_hist_min_em(symbol=us_stock_list[0], start_date='2024-04-01', end_date='2024-04-05')\n",
    "total_df['ticker'] = [us_stock_list[0]]*len(total_df)\n",
    "print(total_df)\n",
    "for ticker in tqdm(us_stock_list[1:]):\n",
    "    ts_df = ak.stock_us_hist_min_em(symbol=ticker, start_date='2024-04-01', end_date='2024-04-05')\n",
    "    ts_df['ticker'] = [ticker]*len(ts_df)\n",
    "    total_df = pd.concat([total_df, ts_df], ignore_index=True)\n",
    "print(total_df)\n",
    "total_df.to_csv('us_stock_20240401_20240405.csv')"
   ],
   "metadata": {
    "collapsed": false,
    "pycharm": {
     "name": "#%%\n"
    }
   }
  },
  {
   "cell_type": "code",
   "execution_count": 38,
   "outputs": [],
   "source": [
    "dff = ak.stock_us_hist_min_em(symbol=us_stock_list[0], start_date='2024-04-01', end_date='2024-04-05')\n",
    "dff.to_csv('MDIA.csv')\n"
   ],
   "metadata": {
    "collapsed": false,
    "pycharm": {
     "name": "#%%\n"
    }
   }
  },
  {
   "cell_type": "code",
   "execution_count": 39,
   "outputs": [
    {
     "data": {
      "text/plain": "     Unnamed: 0                   时间   开盘    收盘    最高    最低    成交量      成交额   \n0             0  2024-04-03 00:00:00  0.0  0.87  0.87  0.86  32000  27658.0  \\\n1             1  2024-04-03 00:01:00  0.0  0.87  0.87  0.87  10173   8816.0   \n2             2  2024-04-03 00:02:00  0.0  0.87  0.87  0.87   2975   2550.0   \n3             3  2024-04-03 00:03:00  0.0  0.87  0.87  0.87      0      0.0   \n4             4  2024-04-03 00:04:00  0.0  0.85  0.87  0.85  13103  11229.0   \n..          ...                  ...  ...   ...   ...   ...    ...      ...   \n777         777  2024-04-04 23:55:00  0.0  1.22  1.22  1.22      0      0.0   \n778         778  2024-04-04 23:56:00  0.0  1.18  1.19  1.18   1274   1428.0   \n779         779  2024-04-04 23:57:00  0.0  1.23  1.23  1.18    139    162.0   \n780         780  2024-04-04 23:58:00  0.0  1.23  1.23  1.23      0      0.0   \n781         781  2024-04-04 23:59:00  0.0  1.23  1.23  1.23      0      0.0   \n\n       最新价  \n0    0.857  \n1    0.857  \n2    0.857  \n3    0.857  \n4    0.857  \n..     ...  \n777  1.454  \n778  1.454  \n779  1.454  \n780  1.454  \n781  1.454  \n\n[782 rows x 9 columns]",
      "text/html": "<div>\n<style scoped>\n    .dataframe tbody tr th:only-of-type {\n        vertical-align: middle;\n    }\n\n    .dataframe tbody tr th {\n        vertical-align: top;\n    }\n\n    .dataframe thead th {\n        text-align: right;\n    }\n</style>\n<table border=\"1\" class=\"dataframe\">\n  <thead>\n    <tr style=\"text-align: right;\">\n      <th></th>\n      <th>Unnamed: 0</th>\n      <th>时间</th>\n      <th>开盘</th>\n      <th>收盘</th>\n      <th>最高</th>\n      <th>最低</th>\n      <th>成交量</th>\n      <th>成交额</th>\n      <th>最新价</th>\n    </tr>\n  </thead>\n  <tbody>\n    <tr>\n      <th>0</th>\n      <td>0</td>\n      <td>2024-04-03 00:00:00</td>\n      <td>0.0</td>\n      <td>0.87</td>\n      <td>0.87</td>\n      <td>0.86</td>\n      <td>32000</td>\n      <td>27658.0</td>\n      <td>0.857</td>\n    </tr>\n    <tr>\n      <th>1</th>\n      <td>1</td>\n      <td>2024-04-03 00:01:00</td>\n      <td>0.0</td>\n      <td>0.87</td>\n      <td>0.87</td>\n      <td>0.87</td>\n      <td>10173</td>\n      <td>8816.0</td>\n      <td>0.857</td>\n    </tr>\n    <tr>\n      <th>2</th>\n      <td>2</td>\n      <td>2024-04-03 00:02:00</td>\n      <td>0.0</td>\n      <td>0.87</td>\n      <td>0.87</td>\n      <td>0.87</td>\n      <td>2975</td>\n      <td>2550.0</td>\n      <td>0.857</td>\n    </tr>\n    <tr>\n      <th>3</th>\n      <td>3</td>\n      <td>2024-04-03 00:03:00</td>\n      <td>0.0</td>\n      <td>0.87</td>\n      <td>0.87</td>\n      <td>0.87</td>\n      <td>0</td>\n      <td>0.0</td>\n      <td>0.857</td>\n    </tr>\n    <tr>\n      <th>4</th>\n      <td>4</td>\n      <td>2024-04-03 00:04:00</td>\n      <td>0.0</td>\n      <td>0.85</td>\n      <td>0.87</td>\n      <td>0.85</td>\n      <td>13103</td>\n      <td>11229.0</td>\n      <td>0.857</td>\n    </tr>\n    <tr>\n      <th>...</th>\n      <td>...</td>\n      <td>...</td>\n      <td>...</td>\n      <td>...</td>\n      <td>...</td>\n      <td>...</td>\n      <td>...</td>\n      <td>...</td>\n      <td>...</td>\n    </tr>\n    <tr>\n      <th>777</th>\n      <td>777</td>\n      <td>2024-04-04 23:55:00</td>\n      <td>0.0</td>\n      <td>1.22</td>\n      <td>1.22</td>\n      <td>1.22</td>\n      <td>0</td>\n      <td>0.0</td>\n      <td>1.454</td>\n    </tr>\n    <tr>\n      <th>778</th>\n      <td>778</td>\n      <td>2024-04-04 23:56:00</td>\n      <td>0.0</td>\n      <td>1.18</td>\n      <td>1.19</td>\n      <td>1.18</td>\n      <td>1274</td>\n      <td>1428.0</td>\n      <td>1.454</td>\n    </tr>\n    <tr>\n      <th>779</th>\n      <td>779</td>\n      <td>2024-04-04 23:57:00</td>\n      <td>0.0</td>\n      <td>1.23</td>\n      <td>1.23</td>\n      <td>1.18</td>\n      <td>139</td>\n      <td>162.0</td>\n      <td>1.454</td>\n    </tr>\n    <tr>\n      <th>780</th>\n      <td>780</td>\n      <td>2024-04-04 23:58:00</td>\n      <td>0.0</td>\n      <td>1.23</td>\n      <td>1.23</td>\n      <td>1.23</td>\n      <td>0</td>\n      <td>0.0</td>\n      <td>1.454</td>\n    </tr>\n    <tr>\n      <th>781</th>\n      <td>781</td>\n      <td>2024-04-04 23:59:00</td>\n      <td>0.0</td>\n      <td>1.23</td>\n      <td>1.23</td>\n      <td>1.23</td>\n      <td>0</td>\n      <td>0.0</td>\n      <td>1.454</td>\n    </tr>\n  </tbody>\n</table>\n<p>782 rows × 9 columns</p>\n</div>"
     },
     "execution_count": 39,
     "metadata": {},
     "output_type": "execute_result"
    }
   ],
   "source": [
    "pd.read_csv('MDIA.csv')\n"
   ],
   "metadata": {
    "collapsed": false,
    "pycharm": {
     "name": "#%%\n"
    }
   }
  },
  {
   "cell_type": "code",
   "execution_count": 41,
   "outputs": [],
   "source": [
    "# rename part I\n",
    "us_1 = pd.read_csv('us_stock_20240401_20240406_1.csv')\n",
    "us_1.columns = ['idx', 'datetime', 'open', 'close', 'high', 'low', 'volume', 'volume(price)', 'last_price', 'ticker']\n",
    "us_1.to_csv('us_stock_20240401_20240406_1.csv')\n"
   ],
   "metadata": {
    "collapsed": false,
    "pycharm": {
     "name": "#%%\n"
    }
   }
  },
  {
   "cell_type": "code",
   "execution_count": 42,
   "outputs": [],
   "source": [
    "# rename part II\n",
    "us_2 = pd.read_csv('us_stock_20240401_20240406_2.csv')\n",
    "us_2.columns = ['idx', 'datetime', 'open', 'close', 'high', 'low', 'volume', 'volume(price)', 'last_price', 'ticker']\n",
    "us_2.to_csv('us_stock_20240401_20240406_2.csv')"
   ],
   "metadata": {
    "collapsed": false,
    "pycharm": {
     "name": "#%%\n"
    }
   }
  },
  {
   "cell_type": "code",
   "execution_count": 43,
   "outputs": [],
   "source": [
    "# merge\n",
    "us_all = pd.concat([us_1, us_2], ignore_index=True)\n",
    "us_all.to_csv('us_stock_20240401_20240406_total.csv')"
   ],
   "metadata": {
    "collapsed": false,
    "pycharm": {
     "name": "#%%\n"
    }
   }
  },
  {
   "cell_type": "code",
   "execution_count": 44,
   "outputs": [
    {
     "data": {
      "text/plain": "               idx             datetime  open  close  high   low      volume   \n0                0  2024-04-01 21:30:00   0.0   0.84  0.84  0.84         0.0  \\\n1                1  2024-04-01 21:31:00   0.0   0.84  0.91  0.84  14066586.0   \n2                2  2024-04-01 21:32:00   0.0   0.80  0.84  0.80    149343.0   \n3                3  2024-04-01 21:33:00   0.0   0.82  0.82  0.80    224003.0   \n4                4  2024-04-01 21:34:00   0.0   0.81  0.82  0.80     53929.0   \n...            ...                  ...   ...    ...   ...   ...         ...   \n20957204  11291684  2024-04-06 03:56:00   0.0   0.00  0.00  0.00         0.0   \n20957205  11291685  2024-04-06 03:57:00   0.0   0.00  0.00  0.00         0.0   \n20957206  11291686  2024-04-06 03:58:00   0.0   0.00  0.00  0.00         0.0   \n20957207  11291687  2024-04-06 03:59:00   0.0   0.00  0.00  0.00         0.0   \n20957208  11291688  2024-04-06 04:00:00   0.0   0.00  0.00  0.00     40794.0   \n\n          volume(price)  last_price     ticker  \n0                   0.0       0.937   105.MDIA  \n1            13114846.0       0.932   105.MDIA  \n2              107797.0       0.930   105.MDIA  \n3              148426.0       0.926   105.MDIA  \n4               34303.0       0.925   105.MDIA  \n...                 ...         ...        ...  \n20957204            0.0       0.004  105.STIXW  \n20957205            0.0       0.004  105.STIXW  \n20957206            0.0       0.004  105.STIXW  \n20957207            0.0       0.004  105.STIXW  \n20957208          125.0       0.004  105.STIXW  \n\n[20957209 rows x 10 columns]",
      "text/html": "<div>\n<style scoped>\n    .dataframe tbody tr th:only-of-type {\n        vertical-align: middle;\n    }\n\n    .dataframe tbody tr th {\n        vertical-align: top;\n    }\n\n    .dataframe thead th {\n        text-align: right;\n    }\n</style>\n<table border=\"1\" class=\"dataframe\">\n  <thead>\n    <tr style=\"text-align: right;\">\n      <th></th>\n      <th>idx</th>\n      <th>datetime</th>\n      <th>open</th>\n      <th>close</th>\n      <th>high</th>\n      <th>low</th>\n      <th>volume</th>\n      <th>volume(price)</th>\n      <th>last_price</th>\n      <th>ticker</th>\n    </tr>\n  </thead>\n  <tbody>\n    <tr>\n      <th>0</th>\n      <td>0</td>\n      <td>2024-04-01 21:30:00</td>\n      <td>0.0</td>\n      <td>0.84</td>\n      <td>0.84</td>\n      <td>0.84</td>\n      <td>0.0</td>\n      <td>0.0</td>\n      <td>0.937</td>\n      <td>105.MDIA</td>\n    </tr>\n    <tr>\n      <th>1</th>\n      <td>1</td>\n      <td>2024-04-01 21:31:00</td>\n      <td>0.0</td>\n      <td>0.84</td>\n      <td>0.91</td>\n      <td>0.84</td>\n      <td>14066586.0</td>\n      <td>13114846.0</td>\n      <td>0.932</td>\n      <td>105.MDIA</td>\n    </tr>\n    <tr>\n      <th>2</th>\n      <td>2</td>\n      <td>2024-04-01 21:32:00</td>\n      <td>0.0</td>\n      <td>0.80</td>\n      <td>0.84</td>\n      <td>0.80</td>\n      <td>149343.0</td>\n      <td>107797.0</td>\n      <td>0.930</td>\n      <td>105.MDIA</td>\n    </tr>\n    <tr>\n      <th>3</th>\n      <td>3</td>\n      <td>2024-04-01 21:33:00</td>\n      <td>0.0</td>\n      <td>0.82</td>\n      <td>0.82</td>\n      <td>0.80</td>\n      <td>224003.0</td>\n      <td>148426.0</td>\n      <td>0.926</td>\n      <td>105.MDIA</td>\n    </tr>\n    <tr>\n      <th>4</th>\n      <td>4</td>\n      <td>2024-04-01 21:34:00</td>\n      <td>0.0</td>\n      <td>0.81</td>\n      <td>0.82</td>\n      <td>0.80</td>\n      <td>53929.0</td>\n      <td>34303.0</td>\n      <td>0.925</td>\n      <td>105.MDIA</td>\n    </tr>\n    <tr>\n      <th>...</th>\n      <td>...</td>\n      <td>...</td>\n      <td>...</td>\n      <td>...</td>\n      <td>...</td>\n      <td>...</td>\n      <td>...</td>\n      <td>...</td>\n      <td>...</td>\n      <td>...</td>\n    </tr>\n    <tr>\n      <th>20957204</th>\n      <td>11291684</td>\n      <td>2024-04-06 03:56:00</td>\n      <td>0.0</td>\n      <td>0.00</td>\n      <td>0.00</td>\n      <td>0.00</td>\n      <td>0.0</td>\n      <td>0.0</td>\n      <td>0.004</td>\n      <td>105.STIXW</td>\n    </tr>\n    <tr>\n      <th>20957205</th>\n      <td>11291685</td>\n      <td>2024-04-06 03:57:00</td>\n      <td>0.0</td>\n      <td>0.00</td>\n      <td>0.00</td>\n      <td>0.00</td>\n      <td>0.0</td>\n      <td>0.0</td>\n      <td>0.004</td>\n      <td>105.STIXW</td>\n    </tr>\n    <tr>\n      <th>20957206</th>\n      <td>11291686</td>\n      <td>2024-04-06 03:58:00</td>\n      <td>0.0</td>\n      <td>0.00</td>\n      <td>0.00</td>\n      <td>0.00</td>\n      <td>0.0</td>\n      <td>0.0</td>\n      <td>0.004</td>\n      <td>105.STIXW</td>\n    </tr>\n    <tr>\n      <th>20957207</th>\n      <td>11291687</td>\n      <td>2024-04-06 03:59:00</td>\n      <td>0.0</td>\n      <td>0.00</td>\n      <td>0.00</td>\n      <td>0.00</td>\n      <td>0.0</td>\n      <td>0.0</td>\n      <td>0.004</td>\n      <td>105.STIXW</td>\n    </tr>\n    <tr>\n      <th>20957208</th>\n      <td>11291688</td>\n      <td>2024-04-06 04:00:00</td>\n      <td>0.0</td>\n      <td>0.00</td>\n      <td>0.00</td>\n      <td>0.00</td>\n      <td>40794.0</td>\n      <td>125.0</td>\n      <td>0.004</td>\n      <td>105.STIXW</td>\n    </tr>\n  </tbody>\n</table>\n<p>20957209 rows × 10 columns</p>\n</div>"
     },
     "execution_count": 44,
     "metadata": {},
     "output_type": "execute_result"
    }
   ],
   "source": [
    "us_all\n"
   ],
   "metadata": {
    "collapsed": false,
    "pycharm": {
     "name": "#%%\n"
    }
   }
  },
  {
   "cell_type": "code",
   "execution_count": null,
   "outputs": [],
   "source": [],
   "metadata": {
    "collapsed": false,
    "pycharm": {
     "name": "#%%\n"
    }
   }
  }
 ],
 "metadata": {
  "kernelspec": {
   "display_name": "Python 3",
   "language": "python",
   "name": "python3"
  },
  "language_info": {
   "codemirror_mode": {
    "name": "ipython",
    "version": 2
   },
   "file_extension": ".py",
   "mimetype": "text/x-python",
   "name": "python",
   "nbconvert_exporter": "python",
   "pygments_lexer": "ipython2",
   "version": "2.7.6"
  }
 },
 "nbformat": 4,
 "nbformat_minor": 0
}