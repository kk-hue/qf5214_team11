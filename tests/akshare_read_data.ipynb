{
 "cells": [
  {
   "cell_type": "code",
   "execution_count": 1,
   "outputs": [],
   "source": [
    "import akshare as ak"
   ],
   "metadata": {
    "collapsed": false,
    "pycharm": {
     "name": "#%%\n"
    }
   }
  },
  {
   "cell_type": "code",
   "execution_count": 2,
   "outputs": [
    {
     "name": "stdout",
     "output_type": "stream",
     "text": [
      "                      day      open      high       low     close     volume\n",
      "0     2024-03-22 14:02:00  3046.620  3048.660  3046.491  3048.573   96403600\n",
      "1     2024-03-22 14:03:00  3049.030  3052.025  3049.030  3051.551  123324000\n",
      "2     2024-03-22 14:04:00  3051.512  3052.338  3050.934  3051.368   94039400\n",
      "3     2024-03-22 14:05:00  3051.386  3052.438  3051.208  3051.666   82762500\n",
      "4     2024-03-22 14:06:00  3051.930  3054.673  3051.930  3054.299  112550900\n",
      "...                   ...       ...       ...       ...       ...        ...\n",
      "1965  2024-04-03 14:55:00  3070.380  3070.380  3069.482  3070.240  207688200\n",
      "1966  2024-04-03 14:56:00  3070.117  3070.117  3069.025  3069.468  244337600\n",
      "1967  2024-04-03 14:57:00  3069.906  3070.149  3069.422  3069.514  273641900\n",
      "1968  2024-04-03 14:58:00  3069.699  3069.736  3069.495  3069.495   17145500\n",
      "1969  2024-04-03 15:00:00  3069.528  3069.528  3069.296  3069.296  474863500\n",
      "\n",
      "[1970 rows x 6 columns]\n"
     ]
    }
   ],
   "source": [
    "df = ak.stock_zh_a_minute(symbol='sh000001')\n",
    "print(df)"
   ],
   "metadata": {
    "collapsed": false,
    "pycharm": {
     "name": "#%%\n"
    }
   }
  },
  {
   "cell_type": "code",
   "execution_count": null,
   "outputs": [],
   "source": [],
   "metadata": {
    "collapsed": false,
    "pycharm": {
     "name": "#%%\n"
    }
   }
  }
 ],
 "metadata": {
  "kernelspec": {
   "display_name": "Python 3",
   "language": "python",
   "name": "python3"
  },
  "language_info": {
   "codemirror_mode": {
    "name": "ipython",
    "version": 2
   },
   "file_extension": ".py",
   "mimetype": "text/x-python",
   "name": "python",
   "nbconvert_exporter": "python",
   "pygments_lexer": "ipython2",
   "version": "2.7.6"
  }
 },
 "nbformat": 4,
 "nbformat_minor": 0
}